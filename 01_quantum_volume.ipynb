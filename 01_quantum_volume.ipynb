{
 "cells": [
  {
   "cell_type": "code",
   "execution_count": 5,
   "metadata": {},
   "outputs": [],
   "source": [
    "from qiskit_ibm_provider import IBMProvider\n",
    "from qiskit.providers import BackendV2\n",
    "\n",
    "from qpu_bench.quantum_volume import find_quantum_volume\n",
    "from qpu_bench.runner import BackendRunner, SimulatedBackendRunner\n",
    "\n",
    "backend = IBMProvider().get_backend('ibm_nairobi')\n",
    "runner = SimulatedBackendRunner(backend)"
   ]
  },
  {
   "cell_type": "code",
   "execution_count": 6,
   "metadata": {},
   "outputs": [
    {
     "name": "stdout",
     "output_type": "stream",
     "text": [
      "mean_hop: 0.77126953125\n",
      "sigma_hop: 0.04200152871210824\n",
      "threshold: 0.7506697240908831\n",
      "z_value: 2.4904537475365354\n",
      "confidence: 0.993620994987294\n",
      "mean_hop: 0.7365625\n",
      "sigma_hop: 0.04404976544702026\n",
      "threshold: 0.7547661975607072\n",
      "z_value: 1.586747003622501\n",
      "confidence: 0.9437150219728825\n",
      "Quantum Volume: 8\n"
     ]
    }
   ],
   "source": [
    "find_quantum_volume(runner)"
   ]
  }
 ],
 "metadata": {
  "kernelspec": {
   "display_name": ".venv",
   "language": "python",
   "name": "python3"
  },
  "language_info": {
   "codemirror_mode": {
    "name": "ipython",
    "version": 3
   },
   "file_extension": ".py",
   "mimetype": "text/x-python",
   "name": "python",
   "nbconvert_exporter": "python",
   "pygments_lexer": "ipython3",
   "version": "3.10.0"
  },
  "orig_nbformat": 4
 },
 "nbformat": 4,
 "nbformat_minor": 2
}
